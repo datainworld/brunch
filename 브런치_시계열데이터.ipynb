{
  "nbformat": 4,
  "nbformat_minor": 0,
  "metadata": {
    "colab": {
      "name": "브런치_시계열데이터.ipynb",
      "provenance": [],
      "toc_visible": true,
      "mount_file_id": "1oJqoPcD-ytuxuNzha2bJMUR1BzcxxCHw",
      "authorship_tag": "ABX9TyNO9gTX3rc7y19T59g3/3t4",
      "include_colab_link": true
    },
    "kernelspec": {
      "name": "python3",
      "display_name": "Python 3"
    }
  },
  "cells": [
    {
      "cell_type": "markdown",
      "metadata": {
        "id": "view-in-github",
        "colab_type": "text"
      },
      "source": [
        "<a href=\"https://colab.research.google.com/github/datainworld/brunch/blob/master/%EB%B8%8C%EB%9F%B0%EC%B9%98_%EC%8B%9C%EA%B3%84%EC%97%B4%EB%8D%B0%EC%9D%B4%ED%84%B0.ipynb\" target=\"_parent\"><img src=\"https://colab.research.google.com/assets/colab-badge.svg\" alt=\"Open In Colab\"/></a>"
      ]
    },
    {
      "cell_type": "code",
      "metadata": {
        "id": "ZQx92nj01JBH",
        "colab_type": "code",
        "colab": {}
      },
      "source": [
        "import pandas as pd\n",
        "import numpy as np\n",
        "import seaborn as sns\n",
        "import matplotlib.pyplot as plt\n",
        "%matplotlib inline"
      ],
      "execution_count": 0,
      "outputs": []
    },
    {
      "cell_type": "markdown",
      "metadata": {
        "id": "BnUfdMCdfHB8",
        "colab_type": "text"
      },
      "source": [
        "### 1.데이터 불러오기"
      ]
    },
    {
      "cell_type": "code",
      "metadata": {
        "id": "3q4Gg6ZO1jtK",
        "colab_type": "code",
        "outputId": "94c967d4-647c-47ae-b013-c7575a1e9e44",
        "colab": {
          "base_uri": "https://localhost:8080/",
          "height": 204
        }
      },
      "source": [
        "# google drive에 공유한 파일을 불러온다.\n",
        "\n",
        "path = '/content/drive/My Drive/Datas/brunch/bikeRental_in_out_201905_min.csv'\n",
        "df = pd.read_csv(path,names=['rent_dt', 'rent_loc', 'return_dt', 'return_loc'])\n",
        "df.tail()"
      ],
      "execution_count": 2,
      "outputs": [
        {
          "output_type": "execute_result",
          "data": {
            "text/html": [
              "<div>\n",
              "<style scoped>\n",
              "    .dataframe tbody tr th:only-of-type {\n",
              "        vertical-align: middle;\n",
              "    }\n",
              "\n",
              "    .dataframe tbody tr th {\n",
              "        vertical-align: top;\n",
              "    }\n",
              "\n",
              "    .dataframe thead th {\n",
              "        text-align: right;\n",
              "    }\n",
              "</style>\n",
              "<table border=\"1\" class=\"dataframe\">\n",
              "  <thead>\n",
              "    <tr style=\"text-align: right;\">\n",
              "      <th></th>\n",
              "      <th>rent_dt</th>\n",
              "      <th>rent_loc</th>\n",
              "      <th>return_dt</th>\n",
              "      <th>return_loc</th>\n",
              "    </tr>\n",
              "  </thead>\n",
              "  <tbody>\n",
              "    <tr>\n",
              "      <th>2221795</th>\n",
              "      <td>2019-05-31 23:25:34</td>\n",
              "      <td>2217</td>\n",
              "      <td>2019-06-01 08:49:59</td>\n",
              "      <td>2289</td>\n",
              "    </tr>\n",
              "    <tr>\n",
              "      <th>2221796</th>\n",
              "      <td>2019-05-31 22:12:06</td>\n",
              "      <td>722</td>\n",
              "      <td>2019-06-01 09:37:07</td>\n",
              "      <td>1140</td>\n",
              "    </tr>\n",
              "    <tr>\n",
              "      <th>2221797</th>\n",
              "      <td>2019-05-31 21:48:05</td>\n",
              "      <td>1814</td>\n",
              "      <td>2019-06-01 09:57:32</td>\n",
              "      <td>1849</td>\n",
              "    </tr>\n",
              "    <tr>\n",
              "      <th>2221798</th>\n",
              "      <td>2019-05-31 21:19:40</td>\n",
              "      <td>1295</td>\n",
              "      <td>2019-06-01 10:04:11</td>\n",
              "      <td>626</td>\n",
              "    </tr>\n",
              "    <tr>\n",
              "      <th>2221799</th>\n",
              "      <td>2019-05-31 09:19:29</td>\n",
              "      <td>567</td>\n",
              "      <td>2019-06-01 12:38:00</td>\n",
              "      <td>567</td>\n",
              "    </tr>\n",
              "  </tbody>\n",
              "</table>\n",
              "</div>"
            ],
            "text/plain": [
              "                     rent_dt  rent_loc            return_dt  return_loc\n",
              "2221795  2019-05-31 23:25:34      2217  2019-06-01 08:49:59        2289\n",
              "2221796  2019-05-31 22:12:06       722  2019-06-01 09:37:07        1140\n",
              "2221797  2019-05-31 21:48:05      1814  2019-06-01 09:57:32        1849\n",
              "2221798  2019-05-31 21:19:40      1295  2019-06-01 10:04:11         626\n",
              "2221799  2019-05-31 09:19:29       567  2019-06-01 12:38:00         567"
            ]
          },
          "metadata": {
            "tags": []
          },
          "execution_count": 2
        }
      ]
    },
    {
      "cell_type": "markdown",
      "metadata": {
        "id": "3stZvVE2A7X7",
        "colab_type": "text"
      },
      "source": [
        "### 2.Timestamp 객체로 변환\n",
        "- 대여일시(rent_dt)열과 반납일시(return_dt)열을 Timestamp 객체로 변환\n",
        "- 데이터 형식은 datetime64 "
      ]
    },
    {
      "cell_type": "code",
      "metadata": {
        "id": "wWRejXnL3G5n",
        "colab_type": "code",
        "outputId": "caffa05e-daf5-41cc-c32d-42d72498d7c5",
        "colab": {
          "base_uri": "https://localhost:8080/",
          "height": 170
        }
      },
      "source": [
        "df['rent_dt'] = pd.to_datetime(df['rent_dt'])\n",
        "df['return_dt'] = pd.to_datetime(df['return_dt'])\n",
        "df.info()"
      ],
      "execution_count": 3,
      "outputs": [
        {
          "output_type": "stream",
          "text": [
            "<class 'pandas.core.frame.DataFrame'>\n",
            "RangeIndex: 2221800 entries, 0 to 2221799\n",
            "Data columns (total 4 columns):\n",
            "rent_dt       datetime64[ns]\n",
            "rent_loc      int64\n",
            "return_dt     datetime64[ns]\n",
            "return_loc    int64\n",
            "dtypes: datetime64[ns](2), int64(2)\n",
            "memory usage: 67.8 MB\n"
          ],
          "name": "stdout"
        }
      ]
    },
    {
      "cell_type": "code",
      "metadata": {
        "id": "fo-oEqHrjWs9",
        "colab_type": "code",
        "outputId": "1ca8f7a2-8c6d-405c-9acb-bd31f42a9caf",
        "colab": {
          "base_uri": "https://localhost:8080/",
          "height": 204
        }
      },
      "source": [
        "df.tail()"
      ],
      "execution_count": 4,
      "outputs": [
        {
          "output_type": "execute_result",
          "data": {
            "text/html": [
              "<div>\n",
              "<style scoped>\n",
              "    .dataframe tbody tr th:only-of-type {\n",
              "        vertical-align: middle;\n",
              "    }\n",
              "\n",
              "    .dataframe tbody tr th {\n",
              "        vertical-align: top;\n",
              "    }\n",
              "\n",
              "    .dataframe thead th {\n",
              "        text-align: right;\n",
              "    }\n",
              "</style>\n",
              "<table border=\"1\" class=\"dataframe\">\n",
              "  <thead>\n",
              "    <tr style=\"text-align: right;\">\n",
              "      <th></th>\n",
              "      <th>rent_dt</th>\n",
              "      <th>rent_loc</th>\n",
              "      <th>return_dt</th>\n",
              "      <th>return_loc</th>\n",
              "    </tr>\n",
              "  </thead>\n",
              "  <tbody>\n",
              "    <tr>\n",
              "      <th>2221795</th>\n",
              "      <td>2019-05-31 23:25:34</td>\n",
              "      <td>2217</td>\n",
              "      <td>2019-06-01 08:49:59</td>\n",
              "      <td>2289</td>\n",
              "    </tr>\n",
              "    <tr>\n",
              "      <th>2221796</th>\n",
              "      <td>2019-05-31 22:12:06</td>\n",
              "      <td>722</td>\n",
              "      <td>2019-06-01 09:37:07</td>\n",
              "      <td>1140</td>\n",
              "    </tr>\n",
              "    <tr>\n",
              "      <th>2221797</th>\n",
              "      <td>2019-05-31 21:48:05</td>\n",
              "      <td>1814</td>\n",
              "      <td>2019-06-01 09:57:32</td>\n",
              "      <td>1849</td>\n",
              "    </tr>\n",
              "    <tr>\n",
              "      <th>2221798</th>\n",
              "      <td>2019-05-31 21:19:40</td>\n",
              "      <td>1295</td>\n",
              "      <td>2019-06-01 10:04:11</td>\n",
              "      <td>626</td>\n",
              "    </tr>\n",
              "    <tr>\n",
              "      <th>2221799</th>\n",
              "      <td>2019-05-31 09:19:29</td>\n",
              "      <td>567</td>\n",
              "      <td>2019-06-01 12:38:00</td>\n",
              "      <td>567</td>\n",
              "    </tr>\n",
              "  </tbody>\n",
              "</table>\n",
              "</div>"
            ],
            "text/plain": [
              "                    rent_dt  rent_loc           return_dt  return_loc\n",
              "2221795 2019-05-31 23:25:34      2217 2019-06-01 08:49:59        2289\n",
              "2221796 2019-05-31 22:12:06       722 2019-06-01 09:37:07        1140\n",
              "2221797 2019-05-31 21:48:05      1814 2019-06-01 09:57:32        1849\n",
              "2221798 2019-05-31 21:19:40      1295 2019-06-01 10:04:11         626\n",
              "2221799 2019-05-31 09:19:29       567 2019-06-01 12:38:00         567"
            ]
          },
          "metadata": {
            "tags": []
          },
          "execution_count": 4
        }
      ]
    },
    {
      "cell_type": "markdown",
      "metadata": {
        "id": "7uYVl6evCHJa",
        "colab_type": "text"
      },
      "source": [
        "### 3.DatetimeIndex 설정\n",
        "반납일시(rent_dt) 열을 인덱스로 설정"
      ]
    },
    {
      "cell_type": "code",
      "metadata": {
        "id": "xCW1PfL53moc",
        "colab_type": "code",
        "outputId": "518e0be0-4deb-4dad-c114-6ab007c1aa86",
        "colab": {
          "base_uri": "https://localhost:8080/",
          "height": 235
        }
      },
      "source": [
        "df.set_index('rent_dt', drop=True, inplace=True)\n",
        "df.tail()"
      ],
      "execution_count": 5,
      "outputs": [
        {
          "output_type": "execute_result",
          "data": {
            "text/html": [
              "<div>\n",
              "<style scoped>\n",
              "    .dataframe tbody tr th:only-of-type {\n",
              "        vertical-align: middle;\n",
              "    }\n",
              "\n",
              "    .dataframe tbody tr th {\n",
              "        vertical-align: top;\n",
              "    }\n",
              "\n",
              "    .dataframe thead th {\n",
              "        text-align: right;\n",
              "    }\n",
              "</style>\n",
              "<table border=\"1\" class=\"dataframe\">\n",
              "  <thead>\n",
              "    <tr style=\"text-align: right;\">\n",
              "      <th></th>\n",
              "      <th>rent_loc</th>\n",
              "      <th>return_dt</th>\n",
              "      <th>return_loc</th>\n",
              "    </tr>\n",
              "    <tr>\n",
              "      <th>rent_dt</th>\n",
              "      <th></th>\n",
              "      <th></th>\n",
              "      <th></th>\n",
              "    </tr>\n",
              "  </thead>\n",
              "  <tbody>\n",
              "    <tr>\n",
              "      <th>2019-05-31 23:25:34</th>\n",
              "      <td>2217</td>\n",
              "      <td>2019-06-01 08:49:59</td>\n",
              "      <td>2289</td>\n",
              "    </tr>\n",
              "    <tr>\n",
              "      <th>2019-05-31 22:12:06</th>\n",
              "      <td>722</td>\n",
              "      <td>2019-06-01 09:37:07</td>\n",
              "      <td>1140</td>\n",
              "    </tr>\n",
              "    <tr>\n",
              "      <th>2019-05-31 21:48:05</th>\n",
              "      <td>1814</td>\n",
              "      <td>2019-06-01 09:57:32</td>\n",
              "      <td>1849</td>\n",
              "    </tr>\n",
              "    <tr>\n",
              "      <th>2019-05-31 21:19:40</th>\n",
              "      <td>1295</td>\n",
              "      <td>2019-06-01 10:04:11</td>\n",
              "      <td>626</td>\n",
              "    </tr>\n",
              "    <tr>\n",
              "      <th>2019-05-31 09:19:29</th>\n",
              "      <td>567</td>\n",
              "      <td>2019-06-01 12:38:00</td>\n",
              "      <td>567</td>\n",
              "    </tr>\n",
              "  </tbody>\n",
              "</table>\n",
              "</div>"
            ],
            "text/plain": [
              "                     rent_loc           return_dt  return_loc\n",
              "rent_dt                                                      \n",
              "2019-05-31 23:25:34      2217 2019-06-01 08:49:59        2289\n",
              "2019-05-31 22:12:06       722 2019-06-01 09:37:07        1140\n",
              "2019-05-31 21:48:05      1814 2019-06-01 09:57:32        1849\n",
              "2019-05-31 21:19:40      1295 2019-06-01 10:04:11         626\n",
              "2019-05-31 09:19:29       567 2019-06-01 12:38:00         567"
            ]
          },
          "metadata": {
            "tags": []
          },
          "execution_count": 5
        }
      ]
    },
    {
      "cell_type": "code",
      "metadata": {
        "id": "88F386gHE9oQ",
        "colab_type": "code",
        "colab": {}
      },
      "source": [
        "df_sort = df.sort_index()"
      ],
      "execution_count": 0,
      "outputs": []
    },
    {
      "cell_type": "markdown",
      "metadata": {
        "id": "DVgEiww_CYFX",
        "colab_type": "text"
      },
      "source": [
        "### 4.시계열의 표현"
      ]
    },
    {
      "cell_type": "markdown",
      "metadata": {
        "id": "X3hW34puDT45",
        "colab_type": "text"
      },
      "source": [
        "#### 4.1 시점"
      ]
    },
    {
      "cell_type": "code",
      "metadata": {
        "id": "FZ0yD6c04ZOt",
        "colab_type": "code",
        "outputId": "30fb3274-70eb-4159-aa45-980a6c5b1325",
        "colab": {
          "base_uri": "https://localhost:8080/",
          "height": 173
        }
      },
      "source": [
        "# loc 인덱서 활용\n",
        "df.loc['2019-05-01 12:00:00']"
      ],
      "execution_count": 7,
      "outputs": [
        {
          "output_type": "execute_result",
          "data": {
            "text/html": [
              "<div>\n",
              "<style scoped>\n",
              "    .dataframe tbody tr th:only-of-type {\n",
              "        vertical-align: middle;\n",
              "    }\n",
              "\n",
              "    .dataframe tbody tr th {\n",
              "        vertical-align: top;\n",
              "    }\n",
              "\n",
              "    .dataframe thead th {\n",
              "        text-align: right;\n",
              "    }\n",
              "</style>\n",
              "<table border=\"1\" class=\"dataframe\">\n",
              "  <thead>\n",
              "    <tr style=\"text-align: right;\">\n",
              "      <th></th>\n",
              "      <th>rent_loc</th>\n",
              "      <th>return_dt</th>\n",
              "      <th>return_loc</th>\n",
              "    </tr>\n",
              "    <tr>\n",
              "      <th>rent_dt</th>\n",
              "      <th></th>\n",
              "      <th></th>\n",
              "      <th></th>\n",
              "    </tr>\n",
              "  </thead>\n",
              "  <tbody>\n",
              "    <tr>\n",
              "      <th>2019-05-01 12:00:00</th>\n",
              "      <td>1520</td>\n",
              "      <td>2019-05-01 12:08:06</td>\n",
              "      <td>1539</td>\n",
              "    </tr>\n",
              "    <tr>\n",
              "      <th>2019-05-01 12:00:00</th>\n",
              "      <td>110</td>\n",
              "      <td>2019-05-01 12:20:45</td>\n",
              "      <td>112</td>\n",
              "    </tr>\n",
              "    <tr>\n",
              "      <th>2019-05-01 12:00:00</th>\n",
              "      <td>650</td>\n",
              "      <td>2019-05-01 12:27:57</td>\n",
              "      <td>651</td>\n",
              "    </tr>\n",
              "  </tbody>\n",
              "</table>\n",
              "</div>"
            ],
            "text/plain": [
              "                     rent_loc           return_dt  return_loc\n",
              "rent_dt                                                      \n",
              "2019-05-01 12:00:00      1520 2019-05-01 12:08:06        1539\n",
              "2019-05-01 12:00:00       110 2019-05-01 12:20:45         112\n",
              "2019-05-01 12:00:00       650 2019-05-01 12:27:57         651"
            ]
          },
          "metadata": {
            "tags": []
          },
          "execution_count": 7
        }
      ]
    },
    {
      "cell_type": "code",
      "metadata": {
        "id": "YQY0i5_dpFkM",
        "colab_type": "code",
        "outputId": "8308da2e-5ba4-461a-ea24-5819b7a17c65",
        "colab": {
          "base_uri": "https://localhost:8080/",
          "height": 700
        }
      },
      "source": [
        "# at_time 메소드 활용\n",
        "df.at_time('2019-05-01 12:00:00')"
      ],
      "execution_count": 8,
      "outputs": [
        {
          "output_type": "execute_result",
          "data": {
            "text/html": [
              "<div>\n",
              "<style scoped>\n",
              "    .dataframe tbody tr th:only-of-type {\n",
              "        vertical-align: middle;\n",
              "    }\n",
              "\n",
              "    .dataframe tbody tr th {\n",
              "        vertical-align: top;\n",
              "    }\n",
              "\n",
              "    .dataframe thead th {\n",
              "        text-align: right;\n",
              "    }\n",
              "</style>\n",
              "<table border=\"1\" class=\"dataframe\">\n",
              "  <thead>\n",
              "    <tr style=\"text-align: right;\">\n",
              "      <th></th>\n",
              "      <th>rent_loc</th>\n",
              "      <th>return_dt</th>\n",
              "      <th>return_loc</th>\n",
              "    </tr>\n",
              "    <tr>\n",
              "      <th>rent_dt</th>\n",
              "      <th></th>\n",
              "      <th></th>\n",
              "      <th></th>\n",
              "    </tr>\n",
              "  </thead>\n",
              "  <tbody>\n",
              "    <tr>\n",
              "      <th>2019-05-01 12:00:00</th>\n",
              "      <td>1520</td>\n",
              "      <td>2019-05-01 12:08:06</td>\n",
              "      <td>1539</td>\n",
              "    </tr>\n",
              "    <tr>\n",
              "      <th>2019-05-01 12:00:00</th>\n",
              "      <td>110</td>\n",
              "      <td>2019-05-01 12:20:45</td>\n",
              "      <td>112</td>\n",
              "    </tr>\n",
              "    <tr>\n",
              "      <th>2019-05-01 12:00:00</th>\n",
              "      <td>650</td>\n",
              "      <td>2019-05-01 12:27:57</td>\n",
              "      <td>651</td>\n",
              "    </tr>\n",
              "    <tr>\n",
              "      <th>2019-05-05 12:00:00</th>\n",
              "      <td>140</td>\n",
              "      <td>2019-05-05 12:19:26</td>\n",
              "      <td>140</td>\n",
              "    </tr>\n",
              "    <tr>\n",
              "      <th>2019-05-05 12:00:00</th>\n",
              "      <td>2002</td>\n",
              "      <td>2019-05-05 12:40:29</td>\n",
              "      <td>211</td>\n",
              "    </tr>\n",
              "    <tr>\n",
              "      <th>2019-05-05 12:00:00</th>\n",
              "      <td>2020</td>\n",
              "      <td>2019-05-05 13:01:30</td>\n",
              "      <td>237</td>\n",
              "    </tr>\n",
              "    <tr>\n",
              "      <th>2019-05-06 12:00:00</th>\n",
              "      <td>2233</td>\n",
              "      <td>2019-05-06 12:05:18</td>\n",
              "      <td>2231</td>\n",
              "    </tr>\n",
              "    <tr>\n",
              "      <th>2019-05-08 12:00:00</th>\n",
              "      <td>2273</td>\n",
              "      <td>2019-05-08 12:55:53</td>\n",
              "      <td>2273</td>\n",
              "    </tr>\n",
              "    <tr>\n",
              "      <th>2019-05-09 12:00:00</th>\n",
              "      <td>810</td>\n",
              "      <td>2019-05-09 13:51:47</td>\n",
              "      <td>831</td>\n",
              "    </tr>\n",
              "    <tr>\n",
              "      <th>2019-05-11 12:00:00</th>\n",
              "      <td>513</td>\n",
              "      <td>2019-05-11 12:33:11</td>\n",
              "      <td>516</td>\n",
              "    </tr>\n",
              "    <tr>\n",
              "      <th>2019-05-11 12:00:00</th>\n",
              "      <td>1674</td>\n",
              "      <td>2019-05-11 12:41:29</td>\n",
              "      <td>1657</td>\n",
              "    </tr>\n",
              "    <tr>\n",
              "      <th>2019-05-13 12:00:00</th>\n",
              "      <td>286</td>\n",
              "      <td>2019-05-13 12:13:51</td>\n",
              "      <td>256</td>\n",
              "    </tr>\n",
              "    <tr>\n",
              "      <th>2019-05-16 12:00:00</th>\n",
              "      <td>240</td>\n",
              "      <td>2019-05-16 12:36:48</td>\n",
              "      <td>240</td>\n",
              "    </tr>\n",
              "    <tr>\n",
              "      <th>2019-05-17 12:00:00</th>\n",
              "      <td>122</td>\n",
              "      <td>2019-05-17 12:05:21</td>\n",
              "      <td>150</td>\n",
              "    </tr>\n",
              "    <tr>\n",
              "      <th>2019-05-24 12:00:00</th>\n",
              "      <td>1032</td>\n",
              "      <td>2019-05-24 12:13:48</td>\n",
              "      <td>1053</td>\n",
              "    </tr>\n",
              "    <tr>\n",
              "      <th>2019-05-24 12:00:00</th>\n",
              "      <td>262</td>\n",
              "      <td>2019-05-24 12:26:05</td>\n",
              "      <td>262</td>\n",
              "    </tr>\n",
              "    <tr>\n",
              "      <th>2019-05-28 12:00:00</th>\n",
              "      <td>2334</td>\n",
              "      <td>2019-05-28 12:09:41</td>\n",
              "      <td>2409</td>\n",
              "    </tr>\n",
              "    <tr>\n",
              "      <th>2019-05-30 12:00:00</th>\n",
              "      <td>1663</td>\n",
              "      <td>2019-05-30 12:09:50</td>\n",
              "      <td>1333</td>\n",
              "    </tr>\n",
              "    <tr>\n",
              "      <th>2019-05-31 12:00:00</th>\n",
              "      <td>266</td>\n",
              "      <td>2019-05-31 12:02:43</td>\n",
              "      <td>265</td>\n",
              "    </tr>\n",
              "    <tr>\n",
              "      <th>2019-05-31 12:00:00</th>\n",
              "      <td>500</td>\n",
              "      <td>2019-05-31 12:05:42</td>\n",
              "      <td>591</td>\n",
              "    </tr>\n",
              "  </tbody>\n",
              "</table>\n",
              "</div>"
            ],
            "text/plain": [
              "                     rent_loc           return_dt  return_loc\n",
              "rent_dt                                                      \n",
              "2019-05-01 12:00:00      1520 2019-05-01 12:08:06        1539\n",
              "2019-05-01 12:00:00       110 2019-05-01 12:20:45         112\n",
              "2019-05-01 12:00:00       650 2019-05-01 12:27:57         651\n",
              "2019-05-05 12:00:00       140 2019-05-05 12:19:26         140\n",
              "2019-05-05 12:00:00      2002 2019-05-05 12:40:29         211\n",
              "2019-05-05 12:00:00      2020 2019-05-05 13:01:30         237\n",
              "2019-05-06 12:00:00      2233 2019-05-06 12:05:18        2231\n",
              "2019-05-08 12:00:00      2273 2019-05-08 12:55:53        2273\n",
              "2019-05-09 12:00:00       810 2019-05-09 13:51:47         831\n",
              "2019-05-11 12:00:00       513 2019-05-11 12:33:11         516\n",
              "2019-05-11 12:00:00      1674 2019-05-11 12:41:29        1657\n",
              "2019-05-13 12:00:00       286 2019-05-13 12:13:51         256\n",
              "2019-05-16 12:00:00       240 2019-05-16 12:36:48         240\n",
              "2019-05-17 12:00:00       122 2019-05-17 12:05:21         150\n",
              "2019-05-24 12:00:00      1032 2019-05-24 12:13:48        1053\n",
              "2019-05-24 12:00:00       262 2019-05-24 12:26:05         262\n",
              "2019-05-28 12:00:00      2334 2019-05-28 12:09:41        2409\n",
              "2019-05-30 12:00:00      1663 2019-05-30 12:09:50        1333\n",
              "2019-05-31 12:00:00       266 2019-05-31 12:02:43         265\n",
              "2019-05-31 12:00:00       500 2019-05-31 12:05:42         591"
            ]
          },
          "metadata": {
            "tags": []
          },
          "execution_count": 8
        }
      ]
    },
    {
      "cell_type": "markdown",
      "metadata": {
        "id": "sA_ODjVqWpAk",
        "colab_type": "text"
      },
      "source": [
        "#### 4.2 기간"
      ]
    },
    {
      "cell_type": "code",
      "metadata": {
        "id": "bO6nyrTm6HKh",
        "colab_type": "code",
        "outputId": "b3ae9cea-d087-4c04-ae31-fead06767d01",
        "colab": {
          "base_uri": "https://localhost:8080/",
          "height": 450
        }
      },
      "source": [
        "# loc 인덱서 활용\n",
        "df.loc['2019-05-01 00:00:00' : '2019-05-01 01:00:00']"
      ],
      "execution_count": 9,
      "outputs": [
        {
          "output_type": "execute_result",
          "data": {
            "text/html": [
              "<div>\n",
              "<style scoped>\n",
              "    .dataframe tbody tr th:only-of-type {\n",
              "        vertical-align: middle;\n",
              "    }\n",
              "\n",
              "    .dataframe tbody tr th {\n",
              "        vertical-align: top;\n",
              "    }\n",
              "\n",
              "    .dataframe thead th {\n",
              "        text-align: right;\n",
              "    }\n",
              "</style>\n",
              "<table border=\"1\" class=\"dataframe\">\n",
              "  <thead>\n",
              "    <tr style=\"text-align: right;\">\n",
              "      <th></th>\n",
              "      <th>rent_loc</th>\n",
              "      <th>return_dt</th>\n",
              "      <th>return_loc</th>\n",
              "    </tr>\n",
              "    <tr>\n",
              "      <th>rent_dt</th>\n",
              "      <th></th>\n",
              "      <th></th>\n",
              "      <th></th>\n",
              "    </tr>\n",
              "  </thead>\n",
              "  <tbody>\n",
              "    <tr>\n",
              "      <th>2019-05-01 00:01:07</th>\n",
              "      <td>1908</td>\n",
              "      <td>2019-05-01 00:03:52</td>\n",
              "      <td>1957</td>\n",
              "    </tr>\n",
              "    <tr>\n",
              "      <th>2019-05-01 00:03:06</th>\n",
              "      <td>241</td>\n",
              "      <td>2019-05-01 00:04:25</td>\n",
              "      <td>255</td>\n",
              "    </tr>\n",
              "    <tr>\n",
              "      <th>2019-05-01 00:00:22</th>\n",
              "      <td>1224</td>\n",
              "      <td>2019-05-01 00:04:36</td>\n",
              "      <td>1249</td>\n",
              "    </tr>\n",
              "    <tr>\n",
              "      <th>2019-05-01 00:01:52</th>\n",
              "      <td>521</td>\n",
              "      <td>2019-05-01 00:04:50</td>\n",
              "      <td>520</td>\n",
              "    </tr>\n",
              "    <tr>\n",
              "      <th>2019-05-01 00:01:11</th>\n",
              "      <td>364</td>\n",
              "      <td>2019-05-01 00:04:52</td>\n",
              "      <td>361</td>\n",
              "    </tr>\n",
              "    <tr>\n",
              "      <th>...</th>\n",
              "      <td>...</td>\n",
              "      <td>...</td>\n",
              "      <td>...</td>\n",
              "    </tr>\n",
              "    <tr>\n",
              "      <th>2019-05-01 00:56:13</th>\n",
              "      <td>502</td>\n",
              "      <td>2019-05-01 03:47:14</td>\n",
              "      <td>502</td>\n",
              "    </tr>\n",
              "    <tr>\n",
              "      <th>2019-05-01 00:37:26</th>\n",
              "      <td>188</td>\n",
              "      <td>2019-05-01 03:49:12</td>\n",
              "      <td>117</td>\n",
              "    </tr>\n",
              "    <tr>\n",
              "      <th>2019-05-01 00:36:46</th>\n",
              "      <td>188</td>\n",
              "      <td>2019-05-01 03:49:22</td>\n",
              "      <td>117</td>\n",
              "    </tr>\n",
              "    <tr>\n",
              "      <th>2019-05-01 00:25:48</th>\n",
              "      <td>1368</td>\n",
              "      <td>2019-05-01 03:51:00</td>\n",
              "      <td>1337</td>\n",
              "    </tr>\n",
              "    <tr>\n",
              "      <th>2019-05-01 00:25:48</th>\n",
              "      <td>1368</td>\n",
              "      <td>2019-05-01 03:52:08</td>\n",
              "      <td>1337</td>\n",
              "    </tr>\n",
              "  </tbody>\n",
              "</table>\n",
              "<p>2058 rows × 3 columns</p>\n",
              "</div>"
            ],
            "text/plain": [
              "                     rent_loc           return_dt  return_loc\n",
              "rent_dt                                                      \n",
              "2019-05-01 00:01:07      1908 2019-05-01 00:03:52        1957\n",
              "2019-05-01 00:03:06       241 2019-05-01 00:04:25         255\n",
              "2019-05-01 00:00:22      1224 2019-05-01 00:04:36        1249\n",
              "2019-05-01 00:01:52       521 2019-05-01 00:04:50         520\n",
              "2019-05-01 00:01:11       364 2019-05-01 00:04:52         361\n",
              "...                       ...                 ...         ...\n",
              "2019-05-01 00:56:13       502 2019-05-01 03:47:14         502\n",
              "2019-05-01 00:37:26       188 2019-05-01 03:49:12         117\n",
              "2019-05-01 00:36:46       188 2019-05-01 03:49:22         117\n",
              "2019-05-01 00:25:48      1368 2019-05-01 03:51:00        1337\n",
              "2019-05-01 00:25:48      1368 2019-05-01 03:52:08        1337\n",
              "\n",
              "[2058 rows x 3 columns]"
            ]
          },
          "metadata": {
            "tags": []
          },
          "execution_count": 9
        }
      ]
    },
    {
      "cell_type": "code",
      "metadata": {
        "id": "TD7G228G4aXs",
        "colab_type": "code",
        "outputId": "b952a3d3-217c-4af0-e9e3-4f5ea484e096",
        "colab": {
          "base_uri": "https://localhost:8080/",
          "height": 450
        }
      },
      "source": [
        "# between_time 메소드 활용\n",
        "df.between_time('00:00:00', '01:00:00')"
      ],
      "execution_count": 10,
      "outputs": [
        {
          "output_type": "execute_result",
          "data": {
            "text/html": [
              "<div>\n",
              "<style scoped>\n",
              "    .dataframe tbody tr th:only-of-type {\n",
              "        vertical-align: middle;\n",
              "    }\n",
              "\n",
              "    .dataframe tbody tr th {\n",
              "        vertical-align: top;\n",
              "    }\n",
              "\n",
              "    .dataframe thead th {\n",
              "        text-align: right;\n",
              "    }\n",
              "</style>\n",
              "<table border=\"1\" class=\"dataframe\">\n",
              "  <thead>\n",
              "    <tr style=\"text-align: right;\">\n",
              "      <th></th>\n",
              "      <th>rent_loc</th>\n",
              "      <th>return_dt</th>\n",
              "      <th>return_loc</th>\n",
              "    </tr>\n",
              "    <tr>\n",
              "      <th>rent_dt</th>\n",
              "      <th></th>\n",
              "      <th></th>\n",
              "      <th></th>\n",
              "    </tr>\n",
              "  </thead>\n",
              "  <tbody>\n",
              "    <tr>\n",
              "      <th>2019-05-01 00:01:07</th>\n",
              "      <td>1908</td>\n",
              "      <td>2019-05-01 00:03:52</td>\n",
              "      <td>1957</td>\n",
              "    </tr>\n",
              "    <tr>\n",
              "      <th>2019-05-01 00:03:06</th>\n",
              "      <td>241</td>\n",
              "      <td>2019-05-01 00:04:25</td>\n",
              "      <td>255</td>\n",
              "    </tr>\n",
              "    <tr>\n",
              "      <th>2019-05-01 00:00:22</th>\n",
              "      <td>1224</td>\n",
              "      <td>2019-05-01 00:04:36</td>\n",
              "      <td>1249</td>\n",
              "    </tr>\n",
              "    <tr>\n",
              "      <th>2019-05-01 00:01:52</th>\n",
              "      <td>521</td>\n",
              "      <td>2019-05-01 00:04:50</td>\n",
              "      <td>520</td>\n",
              "    </tr>\n",
              "    <tr>\n",
              "      <th>2019-05-01 00:01:11</th>\n",
              "      <td>364</td>\n",
              "      <td>2019-05-01 00:04:52</td>\n",
              "      <td>361</td>\n",
              "    </tr>\n",
              "    <tr>\n",
              "      <th>...</th>\n",
              "      <td>...</td>\n",
              "      <td>...</td>\n",
              "      <td>...</td>\n",
              "    </tr>\n",
              "    <tr>\n",
              "      <th>2019-05-31 00:17:16</th>\n",
              "      <td>540</td>\n",
              "      <td>2019-05-31 03:55:01</td>\n",
              "      <td>648</td>\n",
              "    </tr>\n",
              "    <tr>\n",
              "      <th>2019-05-31 00:58:54</th>\n",
              "      <td>1449</td>\n",
              "      <td>2019-05-31 03:57:01</td>\n",
              "      <td>815</td>\n",
              "    </tr>\n",
              "    <tr>\n",
              "      <th>2019-05-31 00:13:45</th>\n",
              "      <td>630</td>\n",
              "      <td>2019-05-31 04:05:54</td>\n",
              "      <td>634</td>\n",
              "    </tr>\n",
              "    <tr>\n",
              "      <th>2019-05-31 00:53:59</th>\n",
              "      <td>1243</td>\n",
              "      <td>2019-05-31 04:10:23</td>\n",
              "      <td>1184</td>\n",
              "    </tr>\n",
              "    <tr>\n",
              "      <th>2019-05-31 00:45:29</th>\n",
              "      <td>960</td>\n",
              "      <td>2019-05-31 06:17:14</td>\n",
              "      <td>968</td>\n",
              "    </tr>\n",
              "  </tbody>\n",
              "</table>\n",
              "<p>67364 rows × 3 columns</p>\n",
              "</div>"
            ],
            "text/plain": [
              "                     rent_loc           return_dt  return_loc\n",
              "rent_dt                                                      \n",
              "2019-05-01 00:01:07      1908 2019-05-01 00:03:52        1957\n",
              "2019-05-01 00:03:06       241 2019-05-01 00:04:25         255\n",
              "2019-05-01 00:00:22      1224 2019-05-01 00:04:36        1249\n",
              "2019-05-01 00:01:52       521 2019-05-01 00:04:50         520\n",
              "2019-05-01 00:01:11       364 2019-05-01 00:04:52         361\n",
              "...                       ...                 ...         ...\n",
              "2019-05-31 00:17:16       540 2019-05-31 03:55:01         648\n",
              "2019-05-31 00:58:54      1449 2019-05-31 03:57:01         815\n",
              "2019-05-31 00:13:45       630 2019-05-31 04:05:54         634\n",
              "2019-05-31 00:53:59      1243 2019-05-31 04:10:23        1184\n",
              "2019-05-31 00:45:29       960 2019-05-31 06:17:14         968\n",
              "\n",
              "[67364 rows x 3 columns]"
            ]
          },
          "metadata": {
            "tags": []
          },
          "execution_count": 10
        }
      ]
    },
    {
      "cell_type": "markdown",
      "metadata": {
        "id": "U_7S-iiDy7PD",
        "colab_type": "text"
      },
      "source": [
        "*   first 메소드를 활용하려면 정렬이 되어 이써야 한다.  \n",
        "*   first 메소드는 DateOffset objects를 매개변수로 취한다.\n",
        "\n",
        "DateOffset objects\n",
        "https://pandas.pydata.org/pandas-docs/stable/user_guide/timeseries.html"
      ]
    },
    {
      "cell_type": "code",
      "metadata": {
        "id": "h-VvZG04yK23",
        "colab_type": "code",
        "outputId": "5434649d-2ba9-4fc5-ab6d-86db1f4edd14",
        "colab": {
          "base_uri": "https://localhost:8080/",
          "height": 450
        }
      },
      "source": [
        "# first 메소드 활용\n",
        "df_soft = df.sort_index()\n",
        "df_sort.first('3D') "
      ],
      "execution_count": 11,
      "outputs": [
        {
          "output_type": "execute_result",
          "data": {
            "text/html": [
              "<div>\n",
              "<style scoped>\n",
              "    .dataframe tbody tr th:only-of-type {\n",
              "        vertical-align: middle;\n",
              "    }\n",
              "\n",
              "    .dataframe tbody tr th {\n",
              "        vertical-align: top;\n",
              "    }\n",
              "\n",
              "    .dataframe thead th {\n",
              "        text-align: right;\n",
              "    }\n",
              "</style>\n",
              "<table border=\"1\" class=\"dataframe\">\n",
              "  <thead>\n",
              "    <tr style=\"text-align: right;\">\n",
              "      <th></th>\n",
              "      <th>rent_loc</th>\n",
              "      <th>return_dt</th>\n",
              "      <th>return_loc</th>\n",
              "    </tr>\n",
              "    <tr>\n",
              "      <th>rent_dt</th>\n",
              "      <th></th>\n",
              "      <th></th>\n",
              "      <th></th>\n",
              "    </tr>\n",
              "  </thead>\n",
              "  <tbody>\n",
              "    <tr>\n",
              "      <th>2019-05-01 00:00:00</th>\n",
              "      <td>129</td>\n",
              "      <td>2019-05-01 01:25:56</td>\n",
              "      <td>436</td>\n",
              "    </tr>\n",
              "    <tr>\n",
              "      <th>2019-05-01 00:00:02</th>\n",
              "      <td>837</td>\n",
              "      <td>2019-05-01 00:46:34</td>\n",
              "      <td>2070</td>\n",
              "    </tr>\n",
              "    <tr>\n",
              "      <th>2019-05-01 00:00:04</th>\n",
              "      <td>276</td>\n",
              "      <td>2019-05-01 00:06:33</td>\n",
              "      <td>257</td>\n",
              "    </tr>\n",
              "    <tr>\n",
              "      <th>2019-05-01 00:00:07</th>\n",
              "      <td>1321</td>\n",
              "      <td>2019-05-01 00:13:48</td>\n",
              "      <td>1351</td>\n",
              "    </tr>\n",
              "    <tr>\n",
              "      <th>2019-05-01 00:00:07</th>\n",
              "      <td>228</td>\n",
              "      <td>2019-05-01 00:12:17</td>\n",
              "      <td>1169</td>\n",
              "    </tr>\n",
              "    <tr>\n",
              "      <th>...</th>\n",
              "      <td>...</td>\n",
              "      <td>...</td>\n",
              "      <td>...</td>\n",
              "    </tr>\n",
              "    <tr>\n",
              "      <th>2019-05-03 23:59:55</th>\n",
              "      <td>716</td>\n",
              "      <td>2019-05-04 01:10:20</td>\n",
              "      <td>716</td>\n",
              "    </tr>\n",
              "    <tr>\n",
              "      <th>2019-05-03 23:59:56</th>\n",
              "      <td>112</td>\n",
              "      <td>2019-05-04 01:01:51</td>\n",
              "      <td>102</td>\n",
              "    </tr>\n",
              "    <tr>\n",
              "      <th>2019-05-03 23:59:57</th>\n",
              "      <td>166</td>\n",
              "      <td>2019-05-04 01:04:46</td>\n",
              "      <td>166</td>\n",
              "    </tr>\n",
              "    <tr>\n",
              "      <th>2019-05-03 23:59:57</th>\n",
              "      <td>568</td>\n",
              "      <td>2019-05-04 00:07:46</td>\n",
              "      <td>378</td>\n",
              "    </tr>\n",
              "    <tr>\n",
              "      <th>2019-05-03 23:59:58</th>\n",
              "      <td>2222</td>\n",
              "      <td>2019-05-04 00:09:00</td>\n",
              "      <td>2032</td>\n",
              "    </tr>\n",
              "  </tbody>\n",
              "</table>\n",
              "<p>221486 rows × 3 columns</p>\n",
              "</div>"
            ],
            "text/plain": [
              "                     rent_loc           return_dt  return_loc\n",
              "rent_dt                                                      \n",
              "2019-05-01 00:00:00       129 2019-05-01 01:25:56         436\n",
              "2019-05-01 00:00:02       837 2019-05-01 00:46:34        2070\n",
              "2019-05-01 00:00:04       276 2019-05-01 00:06:33         257\n",
              "2019-05-01 00:00:07      1321 2019-05-01 00:13:48        1351\n",
              "2019-05-01 00:00:07       228 2019-05-01 00:12:17        1169\n",
              "...                       ...                 ...         ...\n",
              "2019-05-03 23:59:55       716 2019-05-04 01:10:20         716\n",
              "2019-05-03 23:59:56       112 2019-05-04 01:01:51         102\n",
              "2019-05-03 23:59:57       166 2019-05-04 01:04:46         166\n",
              "2019-05-03 23:59:57       568 2019-05-04 00:07:46         378\n",
              "2019-05-03 23:59:58      2222 2019-05-04 00:09:00        2032\n",
              "\n",
              "[221486 rows x 3 columns]"
            ]
          },
          "metadata": {
            "tags": []
          },
          "execution_count": 11
        }
      ]
    },
    {
      "cell_type": "markdown",
      "metadata": {
        "id": "mfxIx4PdejsE",
        "colab_type": "text"
      },
      "source": [
        "#### 4.3 선형적 기간 집계\n",
        "resample 메소드 활용"
      ]
    },
    {
      "cell_type": "code",
      "metadata": {
        "id": "cOLCNv-1hSCL",
        "colab_type": "code",
        "outputId": "2d352c24-cf23-4665-b75e-6a7d9120c973",
        "colab": {
          "base_uri": "https://localhost:8080/",
          "height": 578
        }
      },
      "source": [
        "# 일 간격으로 집계\n",
        "df.resample('D')['rent_loc'].count()"
      ],
      "execution_count": 12,
      "outputs": [
        {
          "output_type": "execute_result",
          "data": {
            "text/plain": [
              "rent_dt\n",
              "2019-05-01    76052\n",
              "2019-05-02    72089\n",
              "2019-05-03    73345\n",
              "2019-05-04    66010\n",
              "2019-05-05    66549\n",
              "2019-05-06    74429\n",
              "2019-05-07    70187\n",
              "2019-05-08    69910\n",
              "2019-05-09    71081\n",
              "2019-05-10    74566\n",
              "2019-05-11    75686\n",
              "2019-05-12    72932\n",
              "2019-05-13    68091\n",
              "2019-05-14    78070\n",
              "2019-05-15    76611\n",
              "2019-05-16    75125\n",
              "2019-05-17    78803\n",
              "2019-05-18    79164\n",
              "2019-05-19    12646\n",
              "2019-05-20    71605\n",
              "2019-05-21    80160\n",
              "2019-05-22    80389\n",
              "2019-05-23    78195\n",
              "2019-05-24    76854\n",
              "2019-05-25    75475\n",
              "2019-05-26    74009\n",
              "2019-05-27    30574\n",
              "2019-05-28    83304\n",
              "2019-05-29    83113\n",
              "2019-05-30    73441\n",
              "2019-05-31    83335\n",
              "Freq: D, Name: rent_loc, dtype: int64"
            ]
          },
          "metadata": {
            "tags": []
          },
          "execution_count": 12
        }
      ]
    },
    {
      "cell_type": "code",
      "metadata": {
        "id": "jFocGxuWhjcZ",
        "colab_type": "code",
        "outputId": "0fb339a4-2c8d-471d-ef5a-8b1ef0d041b1",
        "colab": {
          "base_uri": "https://localhost:8080/",
          "height": 136
        }
      },
      "source": [
        "# 주 간격으로 집계\n",
        "df.resample('W')['rent_loc'].size()"
      ],
      "execution_count": 13,
      "outputs": [
        {
          "output_type": "execute_result",
          "data": {
            "text/plain": [
              "rent_dt\n",
              "2019-05-05    354045\n",
              "2019-05-12    508791\n",
              "2019-05-19    468510\n",
              "2019-05-26    536687\n",
              "2019-06-02    353767\n",
              "Freq: W-SUN, Name: rent_loc, dtype: int64"
            ]
          },
          "metadata": {
            "tags": []
          },
          "execution_count": 13
        }
      ]
    },
    {
      "cell_type": "markdown",
      "metadata": {
        "id": "4op7T3tgb9ri",
        "colab_type": "text"
      },
      "source": [
        "#### 4.4 순환적 기간 집계\n",
        "데이터의 전체 기간에서 반복되는 시간 개념(시간, 요일 등) 별로 관측값을 집계(수량, 평균, 합계 등)하려면, DatetimeIndex의 속성을 이용한다."
      ]
    },
    {
      "cell_type": "code",
      "metadata": {
        "id": "e-Wg4L8u8LJC",
        "colab_type": "code",
        "outputId": "7b549b65-50e1-4a31-ac79-c2f9423d1159",
        "colab": {
          "base_uri": "https://localhost:8080/",
          "height": 442
        }
      },
      "source": [
        "# 일별 대여 건수 집계\n",
        "df.index.hour.value_counts().sort_index()"
      ],
      "execution_count": 14,
      "outputs": [
        {
          "output_type": "execute_result",
          "data": {
            "text/plain": [
              "0      67355\n",
              "1      52413\n",
              "2      35469\n",
              "3      22985\n",
              "4      14436\n",
              "5      14373\n",
              "6      29944\n",
              "7      73884\n",
              "8     129571\n",
              "9      73386\n",
              "10     58216\n",
              "11     68459\n",
              "12     80605\n",
              "13     85895\n",
              "14     93448\n",
              "15    105676\n",
              "16    126063\n",
              "17    165762\n",
              "18    235819\n",
              "19    176923\n",
              "20    152117\n",
              "21    144553\n",
              "22    127132\n",
              "23     87316\n",
              "Name: rent_dt, dtype: int64"
            ]
          },
          "metadata": {
            "tags": []
          },
          "execution_count": 14
        }
      ]
    },
    {
      "cell_type": "code",
      "metadata": {
        "id": "-KxUbqOBdB7R",
        "colab_type": "code",
        "outputId": "125ccdad-05ca-47ba-a0e4-4afac00e0bb2",
        "colab": {
          "base_uri": "https://localhost:8080/",
          "height": 153
        }
      },
      "source": [
        "# 요일별 대여 건수 집계\n",
        "df.index.weekday_name.value_counts()"
      ],
      "execution_count": 15,
      "outputs": [
        {
          "output_type": "execute_result",
          "data": {
            "text/plain": [
              "Friday       386903\n",
              "Wednesday    386075\n",
              "Thursday     369931\n",
              "Tuesday      311721\n",
              "Saturday     296335\n",
              "Monday       244699\n",
              "Sunday       226136\n",
              "Name: rent_dt, dtype: int64"
            ]
          },
          "metadata": {
            "tags": []
          },
          "execution_count": 15
        }
      ]
    },
    {
      "cell_type": "code",
      "metadata": {
        "id": "_-G-3Y_2edN3",
        "colab_type": "code",
        "outputId": "83bc83c3-6957-48ef-8373-8309f2f17606",
        "colab": {
          "base_uri": "https://localhost:8080/",
          "height": 238
        }
      },
      "source": [
        "# groupby를 이용하여 월별/일별 집계\n",
        "week = df.index.weekday_name\n",
        "hour = df.index.hour\n",
        "df_week_hour = df.groupby([week, hour]).size()\n",
        "df_week_hour"
      ],
      "execution_count": 16,
      "outputs": [
        {
          "output_type": "execute_result",
          "data": {
            "text/plain": [
              "rent_dt    rent_dt\n",
              "Friday     0          10836\n",
              "           1           8871\n",
              "           2           6241\n",
              "           3           3992\n",
              "           4           2429\n",
              "                      ...  \n",
              "Wednesday  19         30353\n",
              "           20         25299\n",
              "           21         24253\n",
              "           22         21053\n",
              "           23         13785\n",
              "Length: 168, dtype: int64"
            ]
          },
          "metadata": {
            "tags": []
          },
          "execution_count": 16
        }
      ]
    },
    {
      "cell_type": "code",
      "metadata": {
        "id": "W5WkEpuzfp0q",
        "colab_type": "code",
        "outputId": "e2e3650c-22a5-4553-d3f3-a53bb32b1375",
        "colab": {
          "base_uri": "https://localhost:8080/",
          "height": 235
        }
      },
      "source": [
        "# unstack을 이용하여 피벗테이블 형식으로 변환\n",
        "df_table = df_week_hour.rename_axis(['Weekday', 'Hour']) \\\n",
        "                       .unstack('Weekday')\n",
        "df_table.tail()                       "
      ],
      "execution_count": 17,
      "outputs": [
        {
          "output_type": "execute_result",
          "data": {
            "text/html": [
              "<div>\n",
              "<style scoped>\n",
              "    .dataframe tbody tr th:only-of-type {\n",
              "        vertical-align: middle;\n",
              "    }\n",
              "\n",
              "    .dataframe tbody tr th {\n",
              "        vertical-align: top;\n",
              "    }\n",
              "\n",
              "    .dataframe thead th {\n",
              "        text-align: right;\n",
              "    }\n",
              "</style>\n",
              "<table border=\"1\" class=\"dataframe\">\n",
              "  <thead>\n",
              "    <tr style=\"text-align: right;\">\n",
              "      <th>Weekday</th>\n",
              "      <th>Friday</th>\n",
              "      <th>Monday</th>\n",
              "      <th>Saturday</th>\n",
              "      <th>Sunday</th>\n",
              "      <th>Thursday</th>\n",
              "      <th>Tuesday</th>\n",
              "      <th>Wednesday</th>\n",
              "    </tr>\n",
              "    <tr>\n",
              "      <th>Hour</th>\n",
              "      <th></th>\n",
              "      <th></th>\n",
              "      <th></th>\n",
              "      <th></th>\n",
              "      <th></th>\n",
              "      <th></th>\n",
              "      <th></th>\n",
              "    </tr>\n",
              "  </thead>\n",
              "  <tbody>\n",
              "    <tr>\n",
              "      <th>19</th>\n",
              "      <td>29951</td>\n",
              "      <td>19800</td>\n",
              "      <td>22564</td>\n",
              "      <td>18019</td>\n",
              "      <td>30042</td>\n",
              "      <td>26194</td>\n",
              "      <td>30353</td>\n",
              "    </tr>\n",
              "    <tr>\n",
              "      <th>20</th>\n",
              "      <td>25236</td>\n",
              "      <td>17513</td>\n",
              "      <td>21333</td>\n",
              "      <td>16471</td>\n",
              "      <td>24593</td>\n",
              "      <td>21672</td>\n",
              "      <td>25299</td>\n",
              "    </tr>\n",
              "    <tr>\n",
              "      <th>21</th>\n",
              "      <td>23674</td>\n",
              "      <td>16636</td>\n",
              "      <td>21885</td>\n",
              "      <td>15667</td>\n",
              "      <td>22125</td>\n",
              "      <td>20313</td>\n",
              "      <td>24253</td>\n",
              "    </tr>\n",
              "    <tr>\n",
              "      <th>22</th>\n",
              "      <td>22292</td>\n",
              "      <td>14320</td>\n",
              "      <td>18617</td>\n",
              "      <td>13121</td>\n",
              "      <td>20421</td>\n",
              "      <td>17308</td>\n",
              "      <td>21053</td>\n",
              "    </tr>\n",
              "    <tr>\n",
              "      <th>23</th>\n",
              "      <td>16417</td>\n",
              "      <td>9370</td>\n",
              "      <td>13627</td>\n",
              "      <td>9373</td>\n",
              "      <td>13674</td>\n",
              "      <td>11070</td>\n",
              "      <td>13785</td>\n",
              "    </tr>\n",
              "  </tbody>\n",
              "</table>\n",
              "</div>"
            ],
            "text/plain": [
              "Weekday  Friday  Monday  Saturday  Sunday  Thursday  Tuesday  Wednesday\n",
              "Hour                                                                   \n",
              "19        29951   19800     22564   18019     30042    26194      30353\n",
              "20        25236   17513     21333   16471     24593    21672      25299\n",
              "21        23674   16636     21885   15667     22125    20313      24253\n",
              "22        22292   14320     18617   13121     20421    17308      21053\n",
              "23        16417    9370     13627    9373     13674    11070      13785"
            ]
          },
          "metadata": {
            "tags": []
          },
          "execution_count": 17
        }
      ]
    },
    {
      "cell_type": "code",
      "metadata": {
        "id": "ECsqHdtgiTTw",
        "colab_type": "code",
        "outputId": "6be2e1b0-28cf-4896-dfae-28cc4e7cab32",
        "colab": {
          "base_uri": "https://localhost:8080/",
          "height": 345
        }
      },
      "source": [
        "# seaborn의 히트맵으로 시각화\n",
        "days = ['Monday', 'Tuesday', 'Wednesday', 'Thursday','Friday', 'Saturday', 'Sunday']\n",
        "df_table_sort = df_table.reindex(columns= days)\n",
        "sns.heatmap(df_table_sort)"
      ],
      "execution_count": 18,
      "outputs": [
        {
          "output_type": "execute_result",
          "data": {
            "text/plain": [
              "<matplotlib.axes._subplots.AxesSubplot at 0x7f933a8f2710>"
            ]
          },
          "metadata": {
            "tags": []
          },
          "execution_count": 18
        },
        {
          "output_type": "display_data",
          "data": {
            "image/png": "[encoded data removed]",
            "text/plain": [
              "<Figure size 432x288 with 2 Axes>"
            ]
          },
          "metadata": {
            "tags": []
          }
        }
      ]
    },
    {
      "cell_type": "code",
      "metadata": {
        "colab_type": "code",
        "id": "9czzIPmIOmQx",
        "colab": {
          "base_uri": "https://localhost:8080/",
          "height": 345
        },
        "outputId": "fe14906d-e78f-4d4b-c8cf-0454c5516d44"
      },
      "source": [
        "week = df.index.weekday_name # DatetimeIndex의 요일 속성 \n",
        "hour = df.index.hour         # DatetimeIndex의 시간 속성 \n",
        "df_week_hour = df.groupby([week, hour]).size() # 요일별 시간대별 그룹화\n",
        "df_table = df_week_hour.rename_axis(['Weekday', 'Hour']) \\\n",
        "                       .unstack('Weekday') # 피벗 테이블로 변환\n",
        "days = ['Monday','Tuesday','Wednesday','Thursday','Friday','Saturday','Sunday']\n",
        "df_table_sort = df_table.reindex(columns= days) # 요일별로 정렬\n",
        "sns.heatmap(df_table_sort) # seaborn의 히트맵 차트로 시각화"
      ],
      "execution_count": 19,
      "outputs": [
        {
          "output_type": "execute_result",
          "data": {
            "text/plain": [
              "<matplotlib.axes._subplots.AxesSubplot at 0x7f9341154f98>"
            ]
          },
          "metadata": {
            "tags": []
          },
          "execution_count": 19
        },
        {
          "output_type": "display_data",
          "data": {
            "image/png": "[encoded data removed]",
            "text/plain": [
              "<Figure size 432x288 with 2 Axes>"
            ]
          },
          "metadata": {
            "tags": []
          }
        }
      ]
    },
    {
      "cell_type": "markdown",
      "metadata": {
        "id": "o-qCLhyZsPts",
        "colab_type": "text"
      },
      "source": [
        "### 5.시계열 분해"
      ]
    },
    {
      "cell_type": "code",
      "metadata": {
        "id": "-pbrPQKhMIyq",
        "colab_type": "code",
        "outputId": "4f51e71c-2e6b-44bc-f136-13040a9fb083",
        "colab": {
          "base_uri": "https://localhost:8080/",
          "height": 332
        }
      },
      "source": [
        "# 일별 따릉이 대여 건수 시각화\n",
        "df.resample('D').rent_loc.count().plot()"
      ],
      "execution_count": 20,
      "outputs": [
        {
          "output_type": "execute_result",
          "data": {
            "text/plain": [
              "<matplotlib.axes._subplots.AxesSubplot at 0x7f9336d52400>"
            ]
          },
          "metadata": {
            "tags": []
          },
          "execution_count": 20
        },
        {
          "output_type": "display_data",
          "data": {
            "image/png": "[encoded data removed]",
            "text/plain": [
              "<Figure size 432x288 with 1 Axes>"
            ]
          },
          "metadata": {
            "tags": []
          }
        }
      ]
    },
    {
      "cell_type": "code",
      "metadata": {
        "id": "CSeFuK-ouzNI",
        "colab_type": "code",
        "outputId": "fdbbac1e-2af5-4e17-8534-792204f375bb",
        "colab": {
          "base_uri": "https://localhost:8080/",
          "height": 301
        }
      },
      "source": [
        "# 일별 따릉이 대여 건수 시계열 분해\n",
        "from statsmodels.tsa.seasonal import seasonal_decompose\n",
        "ts = df.resample('D').rent_loc.count()\n",
        "result = seasonal_decompose(ts, model='Additive')\n",
        "result.plot()\n",
        "plt.show()"
      ],
      "execution_count": 21,
      "outputs": [
        {
          "output_type": "display_data",
          "data": {
            "image/png": "[encoded data removed]",
            "text/plain": [
              "<Figure size 432x288 with 4 Axes>"
            ]
          },
          "metadata": {
            "tags": []
          }
        }
      ]
    },
    {
      "cell_type": "markdown",
      "metadata": {
        "id": "DnemltrMfhHM",
        "colab_type": "text"
      },
      "source": [
        "### 6.groupby 활용"
      ]
    },
    {
      "cell_type": "markdown",
      "metadata": {
        "id": "yiuPNKOM0l0L",
        "colab_type": "text"
      },
      "source": [
        "#### 6.1 요일별 시간대별 대여 건수 \n",
        "groupby메소드는 함수를 인수로 취할 수 있다. DatetimeIndex를 groupby 함수의 인수로 활용한다. \n"
      ]
    },
    {
      "cell_type": "code",
      "metadata": {
        "id": "wFpWijW116Rr",
        "colab_type": "code",
        "outputId": "383fa3d2-3220-47b9-e5bc-c213170d91c8",
        "colab": {
          "base_uri": "https://localhost:8080/",
          "height": 292
        }
      },
      "source": [
        "func = [lambda x: x.round('2h').hour, lambda x: x.weekday_name]\n",
        "df_week_hour = df.groupby(func).size()\n",
        "df_week_hour.unstack().style.highlight_max()"
      ],
      "execution_count": 22,
      "outputs": [
        {
          "output_type": "execute_result",
          "data": {
            "text/html": [
              "<style  type=\"text/css\" >\n",
              "    #T_2c7d6ad4_581e_11ea_aa3e_0242ac1c0002row9_col0 {\n",
              "            background-color:  yellow;\n",
              "        }    #T_2c7d6ad4_581e_11ea_aa3e_0242ac1c0002row9_col1 {\n",
              "            background-color:  yellow;\n",
              "        }    #T_2c7d6ad4_581e_11ea_aa3e_0242ac1c0002row9_col2 {\n",
              "            background-color:  yellow;\n",
              "        }    #T_2c7d6ad4_581e_11ea_aa3e_0242ac1c0002row9_col3 {\n",
              "            background-color:  yellow;\n",
              "        }    #T_2c7d6ad4_581e_11ea_aa3e_0242ac1c0002row9_col4 {\n",
              "            background-color:  yellow;\n",
              "        }    #T_2c7d6ad4_581e_11ea_aa3e_0242ac1c0002row9_col5 {\n",
              "            background-color:  yellow;\n",
              "        }    #T_2c7d6ad4_581e_11ea_aa3e_0242ac1c0002row9_col6 {\n",
              "            background-color:  yellow;\n",
              "        }</style><table id=\"T_2c7d6ad4_581e_11ea_aa3e_0242ac1c0002\" ><thead>    <tr>        <th class=\"blank level0\" ></th>        <th class=\"col_heading level0 col0\" >Friday</th>        <th class=\"col_heading level0 col1\" >Monday</th>        <th class=\"col_heading level0 col2\" >Saturday</th>        <th class=\"col_heading level0 col3\" >Sunday</th>        <th class=\"col_heading level0 col4\" >Thursday</th>        <th class=\"col_heading level0 col5\" >Tuesday</th>        <th class=\"col_heading level0 col6\" >Wednesday</th>    </tr></thead><tbody>\n",
              "                <tr>\n",
              "                        <th id=\"T_2c7d6ad4_581e_11ea_aa3e_0242ac1c0002level0_row0\" class=\"row_heading level0 row0\" >0</th>\n",
              "                        <td id=\"T_2c7d6ad4_581e_11ea_aa3e_0242ac1c0002row0_col0\" class=\"data row0 col0\" >27254</td>\n",
              "                        <td id=\"T_2c7d6ad4_581e_11ea_aa3e_0242ac1c0002row0_col1\" class=\"data row0 col1\" >16528</td>\n",
              "                        <td id=\"T_2c7d6ad4_581e_11ea_aa3e_0242ac1c0002row0_col2\" class=\"data row0 col2\" >24060</td>\n",
              "                        <td id=\"T_2c7d6ad4_581e_11ea_aa3e_0242ac1c0002row0_col3\" class=\"data row0 col3\" >20536</td>\n",
              "                        <td id=\"T_2c7d6ad4_581e_11ea_aa3e_0242ac1c0002row0_col4\" class=\"data row0 col4\" >24067</td>\n",
              "                        <td id=\"T_2c7d6ad4_581e_11ea_aa3e_0242ac1c0002row0_col5\" class=\"data row0 col5\" >18169</td>\n",
              "                        <td id=\"T_2c7d6ad4_581e_11ea_aa3e_0242ac1c0002row0_col6\" class=\"data row0 col6\" >24066</td>\n",
              "            </tr>\n",
              "            <tr>\n",
              "                        <th id=\"T_2c7d6ad4_581e_11ea_aa3e_0242ac1c0002level0_row1\" class=\"row_heading level0 row1\" >2</th>\n",
              "                        <td id=\"T_2c7d6ad4_581e_11ea_aa3e_0242ac1c0002row1_col0\" class=\"data row1 col0\" >15111</td>\n",
              "                        <td id=\"T_2c7d6ad4_581e_11ea_aa3e_0242ac1c0002row1_col1\" class=\"data row1 col1\" >7168</td>\n",
              "                        <td id=\"T_2c7d6ad4_581e_11ea_aa3e_0242ac1c0002row1_col2\" class=\"data row1 col2\" >15639</td>\n",
              "                        <td id=\"T_2c7d6ad4_581e_11ea_aa3e_0242ac1c0002row1_col3\" class=\"data row1 col3\" >13621</td>\n",
              "                        <td id=\"T_2c7d6ad4_581e_11ea_aa3e_0242ac1c0002row1_col4\" class=\"data row1 col4\" >13382</td>\n",
              "                        <td id=\"T_2c7d6ad4_581e_11ea_aa3e_0242ac1c0002row1_col5\" class=\"data row1 col5\" >9129</td>\n",
              "                        <td id=\"T_2c7d6ad4_581e_11ea_aa3e_0242ac1c0002row1_col6\" class=\"data row1 col6\" >13823</td>\n",
              "            </tr>\n",
              "            <tr>\n",
              "                        <th id=\"T_2c7d6ad4_581e_11ea_aa3e_0242ac1c0002level0_row2\" class=\"row_heading level0 row2\" >4</th>\n",
              "                        <td id=\"T_2c7d6ad4_581e_11ea_aa3e_0242ac1c0002row2_col0\" class=\"data row2 col0\" >6421</td>\n",
              "                        <td id=\"T_2c7d6ad4_581e_11ea_aa3e_0242ac1c0002row2_col1\" class=\"data row2 col1\" >2568</td>\n",
              "                        <td id=\"T_2c7d6ad4_581e_11ea_aa3e_0242ac1c0002row2_col2\" class=\"data row2 col2\" >7283</td>\n",
              "                        <td id=\"T_2c7d6ad4_581e_11ea_aa3e_0242ac1c0002row2_col3\" class=\"data row2 col3\" >5463</td>\n",
              "                        <td id=\"T_2c7d6ad4_581e_11ea_aa3e_0242ac1c0002row2_col4\" class=\"data row2 col4\" >5663</td>\n",
              "                        <td id=\"T_2c7d6ad4_581e_11ea_aa3e_0242ac1c0002row2_col5\" class=\"data row2 col5\" >3912</td>\n",
              "                        <td id=\"T_2c7d6ad4_581e_11ea_aa3e_0242ac1c0002row2_col6\" class=\"data row2 col6\" >6111</td>\n",
              "            </tr>\n",
              "            <tr>\n",
              "                        <th id=\"T_2c7d6ad4_581e_11ea_aa3e_0242ac1c0002level0_row3\" class=\"row_heading level0 row3\" >6</th>\n",
              "                        <td id=\"T_2c7d6ad4_581e_11ea_aa3e_0242ac1c0002row3_col0\" class=\"data row3 col0\" >8715</td>\n",
              "                        <td id=\"T_2c7d6ad4_581e_11ea_aa3e_0242ac1c0002row3_col1\" class=\"data row3 col1\" >3995</td>\n",
              "                        <td id=\"T_2c7d6ad4_581e_11ea_aa3e_0242ac1c0002row3_col2\" class=\"data row3 col2\" >4448</td>\n",
              "                        <td id=\"T_2c7d6ad4_581e_11ea_aa3e_0242ac1c0002row3_col3\" class=\"data row3 col3\" >3003</td>\n",
              "                        <td id=\"T_2c7d6ad4_581e_11ea_aa3e_0242ac1c0002row3_col4\" class=\"data row3 col4\" >8575</td>\n",
              "                        <td id=\"T_2c7d6ad4_581e_11ea_aa3e_0242ac1c0002row3_col5\" class=\"data row3 col5\" >7094</td>\n",
              "                        <td id=\"T_2c7d6ad4_581e_11ea_aa3e_0242ac1c0002row3_col6\" class=\"data row3 col6\" >8487</td>\n",
              "            </tr>\n",
              "            <tr>\n",
              "                        <th id=\"T_2c7d6ad4_581e_11ea_aa3e_0242ac1c0002level0_row4\" class=\"row_heading level0 row4\" >8</th>\n",
              "                        <td id=\"T_2c7d6ad4_581e_11ea_aa3e_0242ac1c0002row4_col0\" class=\"data row4 col0\" >43930</td>\n",
              "                        <td id=\"T_2c7d6ad4_581e_11ea_aa3e_0242ac1c0002row4_col1\" class=\"data row4 col1\" >19222</td>\n",
              "                        <td id=\"T_2c7d6ad4_581e_11ea_aa3e_0242ac1c0002row4_col2\" class=\"data row4 col2\" >10687</td>\n",
              "                        <td id=\"T_2c7d6ad4_581e_11ea_aa3e_0242ac1c0002row4_col3\" class=\"data row4 col3\" >6368</td>\n",
              "                        <td id=\"T_2c7d6ad4_581e_11ea_aa3e_0242ac1c0002row4_col4\" class=\"data row4 col4\" >45028</td>\n",
              "                        <td id=\"T_2c7d6ad4_581e_11ea_aa3e_0242ac1c0002row4_col5\" class=\"data row4 col5\" >37429</td>\n",
              "                        <td id=\"T_2c7d6ad4_581e_11ea_aa3e_0242ac1c0002row4_col6\" class=\"data row4 col6\" >40801</td>\n",
              "            </tr>\n",
              "            <tr>\n",
              "                        <th id=\"T_2c7d6ad4_581e_11ea_aa3e_0242ac1c0002level0_row5\" class=\"row_heading level0 row5\" >10</th>\n",
              "                        <td id=\"T_2c7d6ad4_581e_11ea_aa3e_0242ac1c0002row5_col0\" class=\"data row5 col0\" >23974</td>\n",
              "                        <td id=\"T_2c7d6ad4_581e_11ea_aa3e_0242ac1c0002row5_col1\" class=\"data row5 col1\" >13003</td>\n",
              "                        <td id=\"T_2c7d6ad4_581e_11ea_aa3e_0242ac1c0002row5_col2\" class=\"data row5 col2\" >16358</td>\n",
              "                        <td id=\"T_2c7d6ad4_581e_11ea_aa3e_0242ac1c0002row5_col3\" class=\"data row5 col3\" >10406</td>\n",
              "                        <td id=\"T_2c7d6ad4_581e_11ea_aa3e_0242ac1c0002row5_col4\" class=\"data row5 col4\" >23625</td>\n",
              "                        <td id=\"T_2c7d6ad4_581e_11ea_aa3e_0242ac1c0002row5_col5\" class=\"data row5 col5\" >19736</td>\n",
              "                        <td id=\"T_2c7d6ad4_581e_11ea_aa3e_0242ac1c0002row5_col6\" class=\"data row5 col6\" >24490</td>\n",
              "            </tr>\n",
              "            <tr>\n",
              "                        <th id=\"T_2c7d6ad4_581e_11ea_aa3e_0242ac1c0002level0_row6\" class=\"row_heading level0 row6\" >12</th>\n",
              "                        <td id=\"T_2c7d6ad4_581e_11ea_aa3e_0242ac1c0002row6_col0\" class=\"data row6 col0\" >25311</td>\n",
              "                        <td id=\"T_2c7d6ad4_581e_11ea_aa3e_0242ac1c0002row6_col1\" class=\"data row6 col1\" >16113</td>\n",
              "                        <td id=\"T_2c7d6ad4_581e_11ea_aa3e_0242ac1c0002row6_col2\" class=\"data row6 col2\" >22105</td>\n",
              "                        <td id=\"T_2c7d6ad4_581e_11ea_aa3e_0242ac1c0002row6_col3\" class=\"data row6 col3\" >15650</td>\n",
              "                        <td id=\"T_2c7d6ad4_581e_11ea_aa3e_0242ac1c0002row6_col4\" class=\"data row6 col4\" >23634</td>\n",
              "                        <td id=\"T_2c7d6ad4_581e_11ea_aa3e_0242ac1c0002row6_col5\" class=\"data row6 col5\" >20138</td>\n",
              "                        <td id=\"T_2c7d6ad4_581e_11ea_aa3e_0242ac1c0002row6_col6\" class=\"data row6 col6\" >26140</td>\n",
              "            </tr>\n",
              "            <tr>\n",
              "                        <th id=\"T_2c7d6ad4_581e_11ea_aa3e_0242ac1c0002level0_row7\" class=\"row_heading level0 row7\" >14</th>\n",
              "                        <td id=\"T_2c7d6ad4_581e_11ea_aa3e_0242ac1c0002row7_col0\" class=\"data row7 col0\" >27793</td>\n",
              "                        <td id=\"T_2c7d6ad4_581e_11ea_aa3e_0242ac1c0002row7_col1\" class=\"data row7 col1\" >21616</td>\n",
              "                        <td id=\"T_2c7d6ad4_581e_11ea_aa3e_0242ac1c0002row7_col2\" class=\"data row7 col2\" >29384</td>\n",
              "                        <td id=\"T_2c7d6ad4_581e_11ea_aa3e_0242ac1c0002row7_col3\" class=\"data row7 col3\" >22550</td>\n",
              "                        <td id=\"T_2c7d6ad4_581e_11ea_aa3e_0242ac1c0002row7_col4\" class=\"data row7 col4\" >25595</td>\n",
              "                        <td id=\"T_2c7d6ad4_581e_11ea_aa3e_0242ac1c0002row7_col5\" class=\"data row7 col5\" >21913</td>\n",
              "                        <td id=\"T_2c7d6ad4_581e_11ea_aa3e_0242ac1c0002row7_col6\" class=\"data row7 col6\" >30465</td>\n",
              "            </tr>\n",
              "            <tr>\n",
              "                        <th id=\"T_2c7d6ad4_581e_11ea_aa3e_0242ac1c0002level0_row8\" class=\"row_heading level0 row8\" >16</th>\n",
              "                        <td id=\"T_2c7d6ad4_581e_11ea_aa3e_0242ac1c0002row8_col0\" class=\"data row8 col0\" >35843</td>\n",
              "                        <td id=\"T_2c7d6ad4_581e_11ea_aa3e_0242ac1c0002row8_col1\" class=\"data row8 col1\" >29556</td>\n",
              "                        <td id=\"T_2c7d6ad4_581e_11ea_aa3e_0242ac1c0002row8_col2\" class=\"data row8 col2\" >37377</td>\n",
              "                        <td id=\"T_2c7d6ad4_581e_11ea_aa3e_0242ac1c0002row8_col3\" class=\"data row8 col3\" >29826</td>\n",
              "                        <td id=\"T_2c7d6ad4_581e_11ea_aa3e_0242ac1c0002row8_col4\" class=\"data row8 col4\" >32551</td>\n",
              "                        <td id=\"T_2c7d6ad4_581e_11ea_aa3e_0242ac1c0002row8_col5\" class=\"data row8 col5\" >27988</td>\n",
              "                        <td id=\"T_2c7d6ad4_581e_11ea_aa3e_0242ac1c0002row8_col6\" class=\"data row8 col6\" >38635</td>\n",
              "            </tr>\n",
              "            <tr>\n",
              "                        <th id=\"T_2c7d6ad4_581e_11ea_aa3e_0242ac1c0002level0_row9\" class=\"row_heading level0 row9\" >18</th>\n",
              "                        <td id=\"T_2c7d6ad4_581e_11ea_aa3e_0242ac1c0002row9_col0\" class=\"data row9 col0\" >71398</td>\n",
              "                        <td id=\"T_2c7d6ad4_581e_11ea_aa3e_0242ac1c0002row9_col1\" class=\"data row9 col1\" >46661</td>\n",
              "                        <td id=\"T_2c7d6ad4_581e_11ea_aa3e_0242ac1c0002row9_col2\" class=\"data row9 col2\" >44595</td>\n",
              "                        <td id=\"T_2c7d6ad4_581e_11ea_aa3e_0242ac1c0002row9_col3\" class=\"data row9 col3\" >35435</td>\n",
              "                        <td id=\"T_2c7d6ad4_581e_11ea_aa3e_0242ac1c0002row9_col4\" class=\"data row9 col4\" >70630</td>\n",
              "                        <td id=\"T_2c7d6ad4_581e_11ea_aa3e_0242ac1c0002row9_col5\" class=\"data row9 col5\" >60726</td>\n",
              "                        <td id=\"T_2c7d6ad4_581e_11ea_aa3e_0242ac1c0002row9_col6\" class=\"data row9 col6\" >72099</td>\n",
              "            </tr>\n",
              "            <tr>\n",
              "                        <th id=\"T_2c7d6ad4_581e_11ea_aa3e_0242ac1c0002level0_row10\" class=\"row_heading level0 row10\" >20</th>\n",
              "                        <td id=\"T_2c7d6ad4_581e_11ea_aa3e_0242ac1c0002row10_col0\" class=\"data row10 col0\" >55192</td>\n",
              "                        <td id=\"T_2c7d6ad4_581e_11ea_aa3e_0242ac1c0002row10_col1\" class=\"data row10 col1\" >37317</td>\n",
              "                        <td id=\"T_2c7d6ad4_581e_11ea_aa3e_0242ac1c0002row10_col2\" class=\"data row10 col2\" >43905</td>\n",
              "                        <td id=\"T_2c7d6ad4_581e_11ea_aa3e_0242ac1c0002row10_col3\" class=\"data row10 col3\" >34496</td>\n",
              "                        <td id=\"T_2c7d6ad4_581e_11ea_aa3e_0242ac1c0002row10_col4\" class=\"data row10 col4\" >54642</td>\n",
              "                        <td id=\"T_2c7d6ad4_581e_11ea_aa3e_0242ac1c0002row10_col5\" class=\"data row10 col5\" >47868</td>\n",
              "                        <td id=\"T_2c7d6ad4_581e_11ea_aa3e_0242ac1c0002row10_col6\" class=\"data row10 col6\" >55664</td>\n",
              "            </tr>\n",
              "            <tr>\n",
              "                        <th id=\"T_2c7d6ad4_581e_11ea_aa3e_0242ac1c0002level0_row11\" class=\"row_heading level0 row11\" >22</th>\n",
              "                        <td id=\"T_2c7d6ad4_581e_11ea_aa3e_0242ac1c0002row11_col0\" class=\"data row11 col0\" >45961</td>\n",
              "                        <td id=\"T_2c7d6ad4_581e_11ea_aa3e_0242ac1c0002row11_col1\" class=\"data row11 col1\" >30952</td>\n",
              "                        <td id=\"T_2c7d6ad4_581e_11ea_aa3e_0242ac1c0002row11_col2\" class=\"data row11 col2\" >40494</td>\n",
              "                        <td id=\"T_2c7d6ad4_581e_11ea_aa3e_0242ac1c0002row11_col3\" class=\"data row11 col3\" >28782</td>\n",
              "                        <td id=\"T_2c7d6ad4_581e_11ea_aa3e_0242ac1c0002row11_col4\" class=\"data row11 col4\" >42539</td>\n",
              "                        <td id=\"T_2c7d6ad4_581e_11ea_aa3e_0242ac1c0002row11_col5\" class=\"data row11 col5\" >37619</td>\n",
              "                        <td id=\"T_2c7d6ad4_581e_11ea_aa3e_0242ac1c0002row11_col6\" class=\"data row11 col6\" >45294</td>\n",
              "            </tr>\n",
              "    </tbody></table>"
            ],
            "text/plain": [
              "<pandas.io.formats.style.Styler at 0x7f9341154c50>"
            ]
          },
          "metadata": {
            "tags": []
          },
          "execution_count": 22
        }
      ]
    },
    {
      "cell_type": "markdown",
      "metadata": {
        "id": "3myk9nWM0M4X",
        "colab_type": "text"
      },
      "source": [
        "#### 6.2 Top5 대여소의 1주일 간격 대여 건수\n",
        "- 시계열을 포함하여 2개 열 기준으로 그룹화하려면 groupby 메소드를 써야 한다.\n",
        "- resample 메소드는 시계열 열 1개만 그룹화 가능"
      ]
    },
    {
      "cell_type": "code",
      "metadata": {
        "id": "qb6BdK6IEncn",
        "colab_type": "code",
        "outputId": "1c88352b-95c1-4015-99a9-390ec1479275",
        "colab": {
          "base_uri": "https://localhost:8080/",
          "height": 34
        }
      },
      "source": [
        "# Top5 대여소의 인덱스 추출\n",
        "loc_idx = df.rent_loc.value_counts().sort_values(ascending=False).head().index\n",
        "loc_idx"
      ],
      "execution_count": 23,
      "outputs": [
        {
          "output_type": "execute_result",
          "data": {
            "text/plain": [
              "Int64Index([207, 502, 2219, 2102, 1210], dtype='int64')"
            ]
          },
          "metadata": {
            "tags": []
          },
          "execution_count": 23
        }
      ]
    },
    {
      "cell_type": "code",
      "metadata": {
        "id": "MNVWvolmud6H",
        "colab_type": "code",
        "outputId": "18d61eae-fd18-4edc-d801-3dd289f0b5f4",
        "colab": {
          "base_uri": "https://localhost:8080/",
          "height": 450
        }
      },
      "source": [
        "# isin 메소드로 전체 데이터 프레임에서 Top5 대여소 선택\n",
        "df_loc = df[df.rent_loc.isin(loc_idx)]\n",
        "df_loc"
      ],
      "execution_count": 24,
      "outputs": [
        {
          "output_type": "execute_result",
          "data": {
            "text/html": [
              "<div>\n",
              "<style scoped>\n",
              "    .dataframe tbody tr th:only-of-type {\n",
              "        vertical-align: middle;\n",
              "    }\n",
              "\n",
              "    .dataframe tbody tr th {\n",
              "        vertical-align: top;\n",
              "    }\n",
              "\n",
              "    .dataframe thead th {\n",
              "        text-align: right;\n",
              "    }\n",
              "</style>\n",
              "<table border=\"1\" class=\"dataframe\">\n",
              "  <thead>\n",
              "    <tr style=\"text-align: right;\">\n",
              "      <th></th>\n",
              "      <th>rent_loc</th>\n",
              "      <th>return_dt</th>\n",
              "      <th>return_loc</th>\n",
              "    </tr>\n",
              "    <tr>\n",
              "      <th>rent_dt</th>\n",
              "      <th></th>\n",
              "      <th></th>\n",
              "      <th></th>\n",
              "    </tr>\n",
              "  </thead>\n",
              "  <tbody>\n",
              "    <tr>\n",
              "      <th>2019-05-01 00:00:53</th>\n",
              "      <td>2102</td>\n",
              "      <td>2019-05-01 00:09:18</td>\n",
              "      <td>2177</td>\n",
              "    </tr>\n",
              "    <tr>\n",
              "      <th>2019-05-01 00:02:42</th>\n",
              "      <td>2102</td>\n",
              "      <td>2019-05-01 00:09:57</td>\n",
              "      <td>2107</td>\n",
              "    </tr>\n",
              "    <tr>\n",
              "      <th>2019-05-01 00:12:17</th>\n",
              "      <td>502</td>\n",
              "      <td>2019-05-01 00:16:31</td>\n",
              "      <td>502</td>\n",
              "    </tr>\n",
              "    <tr>\n",
              "      <th>2019-05-01 00:08:19</th>\n",
              "      <td>2102</td>\n",
              "      <td>2019-05-01 00:18:36</td>\n",
              "      <td>2176</td>\n",
              "    </tr>\n",
              "    <tr>\n",
              "      <th>2019-05-01 00:09:00</th>\n",
              "      <td>2102</td>\n",
              "      <td>2019-05-01 00:19:37</td>\n",
              "      <td>2183</td>\n",
              "    </tr>\n",
              "    <tr>\n",
              "      <th>...</th>\n",
              "      <td>...</td>\n",
              "      <td>...</td>\n",
              "      <td>...</td>\n",
              "    </tr>\n",
              "    <tr>\n",
              "      <th>2019-05-31 23:34:11</th>\n",
              "      <td>207</td>\n",
              "      <td>2019-06-01 01:00:16</td>\n",
              "      <td>207</td>\n",
              "    </tr>\n",
              "    <tr>\n",
              "      <th>2019-05-31 23:52:41</th>\n",
              "      <td>502</td>\n",
              "      <td>2019-06-01 01:06:03</td>\n",
              "      <td>500</td>\n",
              "    </tr>\n",
              "    <tr>\n",
              "      <th>2019-05-31 22:56:05</th>\n",
              "      <td>502</td>\n",
              "      <td>2019-06-01 01:11:02</td>\n",
              "      <td>501</td>\n",
              "    </tr>\n",
              "    <tr>\n",
              "      <th>2019-05-31 23:45:22</th>\n",
              "      <td>207</td>\n",
              "      <td>2019-06-01 01:12:48</td>\n",
              "      <td>150</td>\n",
              "    </tr>\n",
              "    <tr>\n",
              "      <th>2019-05-31 23:54:19</th>\n",
              "      <td>207</td>\n",
              "      <td>2019-06-01 01:15:26</td>\n",
              "      <td>1827</td>\n",
              "    </tr>\n",
              "  </tbody>\n",
              "</table>\n",
              "<p>61280 rows × 3 columns</p>\n",
              "</div>"
            ],
            "text/plain": [
              "                     rent_loc           return_dt  return_loc\n",
              "rent_dt                                                      \n",
              "2019-05-01 00:00:53      2102 2019-05-01 00:09:18        2177\n",
              "2019-05-01 00:02:42      2102 2019-05-01 00:09:57        2107\n",
              "2019-05-01 00:12:17       502 2019-05-01 00:16:31         502\n",
              "2019-05-01 00:08:19      2102 2019-05-01 00:18:36        2176\n",
              "2019-05-01 00:09:00      2102 2019-05-01 00:19:37        2183\n",
              "...                       ...                 ...         ...\n",
              "2019-05-31 23:34:11       207 2019-06-01 01:00:16         207\n",
              "2019-05-31 23:52:41       502 2019-06-01 01:06:03         500\n",
              "2019-05-31 22:56:05       502 2019-06-01 01:11:02         501\n",
              "2019-05-31 23:45:22       207 2019-06-01 01:12:48         150\n",
              "2019-05-31 23:54:19       207 2019-06-01 01:15:26        1827\n",
              "\n",
              "[61280 rows x 3 columns]"
            ]
          },
          "metadata": {
            "tags": []
          },
          "execution_count": 24
        }
      ]
    },
    {
      "cell_type": "code",
      "metadata": {
        "id": "oFgNsH0BxTvU",
        "colab_type": "code",
        "colab": {}
      },
      "source": [
        "# groupby 메소드로 Top5 대여소의 1주일 간격 대여 건수 집계\n",
        "df_loc_cnt = df_loc.groupby(['rent_loc', pd.Grouper(freq='W')]).size()"
      ],
      "execution_count": 0,
      "outputs": []
    },
    {
      "cell_type": "code",
      "metadata": {
        "id": "_BtXmZqnxyQd",
        "colab_type": "code",
        "outputId": "73e7deaa-0b3b-484d-f267-c27a6c8feeb4",
        "colab": {
          "base_uri": "https://localhost:8080/",
          "height": 166
        }
      },
      "source": [
        "# unstack 메소드를 이용하여 피벗 테이블로 변환\n",
        "df_loc_cnt.unstack('rent_loc').style.highlight_max()"
      ],
      "execution_count": 26,
      "outputs": [
        {
          "output_type": "execute_result",
          "data": {
            "text/html": [
              "<style  type=\"text/css\" >\n",
              "    #T_2c95c37c_581e_11ea_aa3e_0242ac1c0002row1_col0 {\n",
              "            background-color:  yellow;\n",
              "        }    #T_2c95c37c_581e_11ea_aa3e_0242ac1c0002row1_col1 {\n",
              "            background-color:  yellow;\n",
              "        }    #T_2c95c37c_581e_11ea_aa3e_0242ac1c0002row1_col2 {\n",
              "            background-color:  yellow;\n",
              "        }    #T_2c95c37c_581e_11ea_aa3e_0242ac1c0002row1_col4 {\n",
              "            background-color:  yellow;\n",
              "        }    #T_2c95c37c_581e_11ea_aa3e_0242ac1c0002row3_col3 {\n",
              "            background-color:  yellow;\n",
              "        }</style><table id=\"T_2c95c37c_581e_11ea_aa3e_0242ac1c0002\" ><thead>    <tr>        <th class=\"index_name level0\" >rent_loc</th>        <th class=\"col_heading level0 col0\" >207</th>        <th class=\"col_heading level0 col1\" >502</th>        <th class=\"col_heading level0 col2\" >1210</th>        <th class=\"col_heading level0 col3\" >2102</th>        <th class=\"col_heading level0 col4\" >2219</th>    </tr>    <tr>        <th class=\"index_name level0\" >rent_dt</th>        <th class=\"blank\" ></th>        <th class=\"blank\" ></th>        <th class=\"blank\" ></th>        <th class=\"blank\" ></th>        <th class=\"blank\" ></th>    </tr></thead><tbody>\n",
              "                <tr>\n",
              "                        <th id=\"T_2c95c37c_581e_11ea_aa3e_0242ac1c0002level0_row0\" class=\"row_heading level0 row0\" >2019-05-05 00:00:00</th>\n",
              "                        <td id=\"T_2c95c37c_581e_11ea_aa3e_0242ac1c0002row0_col0\" class=\"data row0 col0\" >3661</td>\n",
              "                        <td id=\"T_2c95c37c_581e_11ea_aa3e_0242ac1c0002row0_col1\" class=\"data row0 col1\" >3089</td>\n",
              "                        <td id=\"T_2c95c37c_581e_11ea_aa3e_0242ac1c0002row0_col2\" class=\"data row0 col2\" >1771</td>\n",
              "                        <td id=\"T_2c95c37c_581e_11ea_aa3e_0242ac1c0002row0_col3\" class=\"data row0 col3\" >1623</td>\n",
              "                        <td id=\"T_2c95c37c_581e_11ea_aa3e_0242ac1c0002row0_col4\" class=\"data row0 col4\" >2031</td>\n",
              "            </tr>\n",
              "            <tr>\n",
              "                        <th id=\"T_2c95c37c_581e_11ea_aa3e_0242ac1c0002level0_row1\" class=\"row_heading level0 row1\" >2019-05-12 00:00:00</th>\n",
              "                        <td id=\"T_2c95c37c_581e_11ea_aa3e_0242ac1c0002row1_col0\" class=\"data row1 col0\" >4462</td>\n",
              "                        <td id=\"T_2c95c37c_581e_11ea_aa3e_0242ac1c0002row1_col1\" class=\"data row1 col1\" >4570</td>\n",
              "                        <td id=\"T_2c95c37c_581e_11ea_aa3e_0242ac1c0002row1_col2\" class=\"data row1 col2\" >2139</td>\n",
              "                        <td id=\"T_2c95c37c_581e_11ea_aa3e_0242ac1c0002row1_col3\" class=\"data row1 col3\" >2287</td>\n",
              "                        <td id=\"T_2c95c37c_581e_11ea_aa3e_0242ac1c0002row1_col4\" class=\"data row1 col4\" >2851</td>\n",
              "            </tr>\n",
              "            <tr>\n",
              "                        <th id=\"T_2c95c37c_581e_11ea_aa3e_0242ac1c0002level0_row2\" class=\"row_heading level0 row2\" >2019-05-19 00:00:00</th>\n",
              "                        <td id=\"T_2c95c37c_581e_11ea_aa3e_0242ac1c0002row2_col0\" class=\"data row2 col0\" >2958</td>\n",
              "                        <td id=\"T_2c95c37c_581e_11ea_aa3e_0242ac1c0002row2_col1\" class=\"data row2 col1\" >2966</td>\n",
              "                        <td id=\"T_2c95c37c_581e_11ea_aa3e_0242ac1c0002row2_col2\" class=\"data row2 col2\" >1683</td>\n",
              "                        <td id=\"T_2c95c37c_581e_11ea_aa3e_0242ac1c0002row2_col3\" class=\"data row2 col3\" >1979</td>\n",
              "                        <td id=\"T_2c95c37c_581e_11ea_aa3e_0242ac1c0002row2_col4\" class=\"data row2 col4\" >1824</td>\n",
              "            </tr>\n",
              "            <tr>\n",
              "                        <th id=\"T_2c95c37c_581e_11ea_aa3e_0242ac1c0002level0_row3\" class=\"row_heading level0 row3\" >2019-05-26 00:00:00</th>\n",
              "                        <td id=\"T_2c95c37c_581e_11ea_aa3e_0242ac1c0002row3_col0\" class=\"data row3 col0\" >3520</td>\n",
              "                        <td id=\"T_2c95c37c_581e_11ea_aa3e_0242ac1c0002row3_col1\" class=\"data row3 col1\" >3458</td>\n",
              "                        <td id=\"T_2c95c37c_581e_11ea_aa3e_0242ac1c0002row3_col2\" class=\"data row3 col2\" >2066</td>\n",
              "                        <td id=\"T_2c95c37c_581e_11ea_aa3e_0242ac1c0002row3_col3\" class=\"data row3 col3\" >2289</td>\n",
              "                        <td id=\"T_2c95c37c_581e_11ea_aa3e_0242ac1c0002row3_col4\" class=\"data row3 col4\" >2354</td>\n",
              "            </tr>\n",
              "            <tr>\n",
              "                        <th id=\"T_2c95c37c_581e_11ea_aa3e_0242ac1c0002level0_row4\" class=\"row_heading level0 row4\" >2019-06-02 00:00:00</th>\n",
              "                        <td id=\"T_2c95c37c_581e_11ea_aa3e_0242ac1c0002row4_col0\" class=\"data row4 col0\" >1872</td>\n",
              "                        <td id=\"T_2c95c37c_581e_11ea_aa3e_0242ac1c0002row4_col1\" class=\"data row4 col1\" >1850</td>\n",
              "                        <td id=\"T_2c95c37c_581e_11ea_aa3e_0242ac1c0002row4_col2\" class=\"data row4 col2\" >1373</td>\n",
              "                        <td id=\"T_2c95c37c_581e_11ea_aa3e_0242ac1c0002row4_col3\" class=\"data row4 col3\" >1466</td>\n",
              "                        <td id=\"T_2c95c37c_581e_11ea_aa3e_0242ac1c0002row4_col4\" class=\"data row4 col4\" >1138</td>\n",
              "            </tr>\n",
              "    </tbody></table>"
            ],
            "text/plain": [
              "<pandas.io.formats.style.Styler at 0x7f9341d56978>"
            ]
          },
          "metadata": {
            "tags": []
          },
          "execution_count": 26
        }
      ]
    }
  ]
}